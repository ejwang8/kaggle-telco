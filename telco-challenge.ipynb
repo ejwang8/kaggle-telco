{
 "cells": [
  {
   "cell_type": "code",
   "execution_count": 445,
   "id": "5f4e638a",
   "metadata": {},
   "outputs": [],
   "source": [
    "#import statements\n",
    "import pandas as pd\n",
    "from matplotlib import pyplot as plt\n",
    "import seaborn as sns\n",
    "import sklearn as skl\n",
    "import warnings\n",
    "\n",
    "warnings.filterwarnings(\"ignore\")"
   ]
  },
  {
   "cell_type": "markdown",
   "id": "754eb816",
   "metadata": {},
   "source": [
    "#### 1. Problem framing — target, metric, baseline you’re beating."
   ]
  },
  {
   "cell_type": "markdown",
   "id": "a308f150",
   "metadata": {},
   "source": [
    "\"Predict behavior to retain customers. You can analyze all relevant customer data and develop focused customer retention programs.\"\n",
    "\n",
    "**I am going to find a correlation plot for all variables to figure out which attributes are most correlated with churn (yes/no). From there, I'll develop focused customer retention programs based on which demographics have high churn, which services the churn group have, and customer account information.**"
   ]
  },
  {
   "cell_type": "markdown",
   "id": "4867c894",
   "metadata": {},
   "source": [
    "#### 2. Data hygiene — types, missingness, outliers, leakage check; document all fixes."
   ]
  },
  {
   "cell_type": "code",
   "execution_count": 446,
   "id": "3fc13580",
   "metadata": {},
   "outputs": [
    {
     "data": {
      "text/plain": [
       "customerID           object\n",
       "gender               object\n",
       "SeniorCitizen         int64\n",
       "Partner              object\n",
       "Dependents           object\n",
       "tenure                int64\n",
       "PhoneService         object\n",
       "MultipleLines        object\n",
       "InternetService      object\n",
       "OnlineSecurity       object\n",
       "OnlineBackup         object\n",
       "DeviceProtection     object\n",
       "TechSupport          object\n",
       "StreamingTV          object\n",
       "StreamingMovies      object\n",
       "Contract             object\n",
       "PaperlessBilling     object\n",
       "PaymentMethod        object\n",
       "MonthlyCharges      float64\n",
       "TotalCharges         object\n",
       "Churn                object\n",
       "dtype: object"
      ]
     },
     "execution_count": 446,
     "metadata": {},
     "output_type": "execute_result"
    }
   ],
   "source": [
    "filepath = 'WA_Fn-UseC_-Telco-Customer-Churn.csv'\n",
    "df = pd.read_csv(filepath)\n",
    "df.dtypes # everything categorical except SeniorCitizen, tenure, and MonthlyCharges are numerical"
   ]
  },
  {
   "cell_type": "code",
   "execution_count": 447,
   "id": "32723cca",
   "metadata": {},
   "outputs": [
    {
     "data": {
      "text/html": [
       "<div>\n",
       "<style scoped>\n",
       "    .dataframe tbody tr th:only-of-type {\n",
       "        vertical-align: middle;\n",
       "    }\n",
       "\n",
       "    .dataframe tbody tr th {\n",
       "        vertical-align: top;\n",
       "    }\n",
       "\n",
       "    .dataframe thead th {\n",
       "        text-align: right;\n",
       "    }\n",
       "</style>\n",
       "<table border=\"1\" class=\"dataframe\">\n",
       "  <thead>\n",
       "    <tr style=\"text-align: right;\">\n",
       "      <th></th>\n",
       "      <th>customerID</th>\n",
       "      <th>gender</th>\n",
       "      <th>SeniorCitizen</th>\n",
       "      <th>Partner</th>\n",
       "      <th>Dependents</th>\n",
       "      <th>tenure</th>\n",
       "      <th>PhoneService</th>\n",
       "      <th>MultipleLines</th>\n",
       "      <th>InternetService</th>\n",
       "      <th>OnlineSecurity</th>\n",
       "      <th>...</th>\n",
       "      <th>DeviceProtection</th>\n",
       "      <th>TechSupport</th>\n",
       "      <th>StreamingTV</th>\n",
       "      <th>StreamingMovies</th>\n",
       "      <th>Contract</th>\n",
       "      <th>PaperlessBilling</th>\n",
       "      <th>PaymentMethod</th>\n",
       "      <th>MonthlyCharges</th>\n",
       "      <th>TotalCharges</th>\n",
       "      <th>Churn</th>\n",
       "    </tr>\n",
       "  </thead>\n",
       "  <tbody>\n",
       "    <tr>\n",
       "      <th>0</th>\n",
       "      <td>7590-VHVEG</td>\n",
       "      <td>Female</td>\n",
       "      <td>0</td>\n",
       "      <td>Yes</td>\n",
       "      <td>No</td>\n",
       "      <td>1</td>\n",
       "      <td>No</td>\n",
       "      <td>No phone service</td>\n",
       "      <td>DSL</td>\n",
       "      <td>No</td>\n",
       "      <td>...</td>\n",
       "      <td>No</td>\n",
       "      <td>No</td>\n",
       "      <td>No</td>\n",
       "      <td>No</td>\n",
       "      <td>Month-to-month</td>\n",
       "      <td>Yes</td>\n",
       "      <td>Electronic check</td>\n",
       "      <td>29.85</td>\n",
       "      <td>29.85</td>\n",
       "      <td>No</td>\n",
       "    </tr>\n",
       "    <tr>\n",
       "      <th>1</th>\n",
       "      <td>5575-GNVDE</td>\n",
       "      <td>Male</td>\n",
       "      <td>0</td>\n",
       "      <td>No</td>\n",
       "      <td>No</td>\n",
       "      <td>34</td>\n",
       "      <td>Yes</td>\n",
       "      <td>No</td>\n",
       "      <td>DSL</td>\n",
       "      <td>Yes</td>\n",
       "      <td>...</td>\n",
       "      <td>Yes</td>\n",
       "      <td>No</td>\n",
       "      <td>No</td>\n",
       "      <td>No</td>\n",
       "      <td>One year</td>\n",
       "      <td>No</td>\n",
       "      <td>Mailed check</td>\n",
       "      <td>56.95</td>\n",
       "      <td>1889.5</td>\n",
       "      <td>No</td>\n",
       "    </tr>\n",
       "    <tr>\n",
       "      <th>2</th>\n",
       "      <td>3668-QPYBK</td>\n",
       "      <td>Male</td>\n",
       "      <td>0</td>\n",
       "      <td>No</td>\n",
       "      <td>No</td>\n",
       "      <td>2</td>\n",
       "      <td>Yes</td>\n",
       "      <td>No</td>\n",
       "      <td>DSL</td>\n",
       "      <td>Yes</td>\n",
       "      <td>...</td>\n",
       "      <td>No</td>\n",
       "      <td>No</td>\n",
       "      <td>No</td>\n",
       "      <td>No</td>\n",
       "      <td>Month-to-month</td>\n",
       "      <td>Yes</td>\n",
       "      <td>Mailed check</td>\n",
       "      <td>53.85</td>\n",
       "      <td>108.15</td>\n",
       "      <td>Yes</td>\n",
       "    </tr>\n",
       "    <tr>\n",
       "      <th>3</th>\n",
       "      <td>7795-CFOCW</td>\n",
       "      <td>Male</td>\n",
       "      <td>0</td>\n",
       "      <td>No</td>\n",
       "      <td>No</td>\n",
       "      <td>45</td>\n",
       "      <td>No</td>\n",
       "      <td>No phone service</td>\n",
       "      <td>DSL</td>\n",
       "      <td>Yes</td>\n",
       "      <td>...</td>\n",
       "      <td>Yes</td>\n",
       "      <td>Yes</td>\n",
       "      <td>No</td>\n",
       "      <td>No</td>\n",
       "      <td>One year</td>\n",
       "      <td>No</td>\n",
       "      <td>Bank transfer (automatic)</td>\n",
       "      <td>42.30</td>\n",
       "      <td>1840.75</td>\n",
       "      <td>No</td>\n",
       "    </tr>\n",
       "    <tr>\n",
       "      <th>4</th>\n",
       "      <td>9237-HQITU</td>\n",
       "      <td>Female</td>\n",
       "      <td>0</td>\n",
       "      <td>No</td>\n",
       "      <td>No</td>\n",
       "      <td>2</td>\n",
       "      <td>Yes</td>\n",
       "      <td>No</td>\n",
       "      <td>Fiber optic</td>\n",
       "      <td>No</td>\n",
       "      <td>...</td>\n",
       "      <td>No</td>\n",
       "      <td>No</td>\n",
       "      <td>No</td>\n",
       "      <td>No</td>\n",
       "      <td>Month-to-month</td>\n",
       "      <td>Yes</td>\n",
       "      <td>Electronic check</td>\n",
       "      <td>70.70</td>\n",
       "      <td>151.65</td>\n",
       "      <td>Yes</td>\n",
       "    </tr>\n",
       "  </tbody>\n",
       "</table>\n",
       "<p>5 rows × 21 columns</p>\n",
       "</div>"
      ],
      "text/plain": [
       "   customerID  gender  SeniorCitizen Partner Dependents  tenure PhoneService  \\\n",
       "0  7590-VHVEG  Female              0     Yes         No       1           No   \n",
       "1  5575-GNVDE    Male              0      No         No      34          Yes   \n",
       "2  3668-QPYBK    Male              0      No         No       2          Yes   \n",
       "3  7795-CFOCW    Male              0      No         No      45           No   \n",
       "4  9237-HQITU  Female              0      No         No       2          Yes   \n",
       "\n",
       "      MultipleLines InternetService OnlineSecurity  ... DeviceProtection  \\\n",
       "0  No phone service             DSL             No  ...               No   \n",
       "1                No             DSL            Yes  ...              Yes   \n",
       "2                No             DSL            Yes  ...               No   \n",
       "3  No phone service             DSL            Yes  ...              Yes   \n",
       "4                No     Fiber optic             No  ...               No   \n",
       "\n",
       "  TechSupport StreamingTV StreamingMovies        Contract PaperlessBilling  \\\n",
       "0          No          No              No  Month-to-month              Yes   \n",
       "1          No          No              No        One year               No   \n",
       "2          No          No              No  Month-to-month              Yes   \n",
       "3         Yes          No              No        One year               No   \n",
       "4          No          No              No  Month-to-month              Yes   \n",
       "\n",
       "               PaymentMethod MonthlyCharges  TotalCharges Churn  \n",
       "0           Electronic check          29.85         29.85    No  \n",
       "1               Mailed check          56.95        1889.5    No  \n",
       "2               Mailed check          53.85        108.15   Yes  \n",
       "3  Bank transfer (automatic)          42.30       1840.75    No  \n",
       "4           Electronic check          70.70        151.65   Yes  \n",
       "\n",
       "[5 rows x 21 columns]"
      ]
     },
     "execution_count": 447,
     "metadata": {},
     "output_type": "execute_result"
    }
   ],
   "source": [
    "df.head()"
   ]
  },
  {
   "cell_type": "code",
   "execution_count": 448,
   "id": "66206186",
   "metadata": {},
   "outputs": [],
   "source": [
    "# need to turn TotalCharges into numeric\n",
    "df['TotalCharges'] = pd.to_numeric(df['TotalCharges'] , errors = 'coerce')"
   ]
  },
  {
   "cell_type": "code",
   "execution_count": 449,
   "id": "26d3b733",
   "metadata": {},
   "outputs": [
    {
     "data": {
      "text/plain": [
       "customerID           object\n",
       "gender               object\n",
       "SeniorCitizen         int64\n",
       "Partner              object\n",
       "Dependents           object\n",
       "tenure                int64\n",
       "PhoneService         object\n",
       "MultipleLines        object\n",
       "InternetService      object\n",
       "OnlineSecurity       object\n",
       "OnlineBackup         object\n",
       "DeviceProtection     object\n",
       "TechSupport          object\n",
       "StreamingTV          object\n",
       "StreamingMovies      object\n",
       "Contract             object\n",
       "PaperlessBilling     object\n",
       "PaymentMethod        object\n",
       "MonthlyCharges      float64\n",
       "TotalCharges        float64\n",
       "Churn                object\n",
       "dtype: object"
      ]
     },
     "execution_count": 449,
     "metadata": {},
     "output_type": "execute_result"
    }
   ],
   "source": [
    "df.dtypes # fixed - TotalCharges now float"
   ]
  },
  {
   "cell_type": "code",
   "execution_count": 450,
   "id": "38d0976e",
   "metadata": {},
   "outputs": [
    {
     "name": "stdout",
     "output_type": "stream",
     "text": [
      "<class 'pandas.core.frame.DataFrame'>\n",
      "RangeIndex: 7043 entries, 0 to 7042\n",
      "Data columns (total 21 columns):\n",
      " #   Column            Non-Null Count  Dtype  \n",
      "---  ------            --------------  -----  \n",
      " 0   customerID        7043 non-null   object \n",
      " 1   gender            7043 non-null   object \n",
      " 2   SeniorCitizen     7043 non-null   int64  \n",
      " 3   Partner           7043 non-null   object \n",
      " 4   Dependents        7043 non-null   object \n",
      " 5   tenure            7043 non-null   int64  \n",
      " 6   PhoneService      7043 non-null   object \n",
      " 7   MultipleLines     7043 non-null   object \n",
      " 8   InternetService   7043 non-null   object \n",
      " 9   OnlineSecurity    7043 non-null   object \n",
      " 10  OnlineBackup      7043 non-null   object \n",
      " 11  DeviceProtection  7043 non-null   object \n",
      " 12  TechSupport       7043 non-null   object \n",
      " 13  StreamingTV       7043 non-null   object \n",
      " 14  StreamingMovies   7043 non-null   object \n",
      " 15  Contract          7043 non-null   object \n",
      " 16  PaperlessBilling  7043 non-null   object \n",
      " 17  PaymentMethod     7043 non-null   object \n",
      " 18  MonthlyCharges    7043 non-null   float64\n",
      " 19  TotalCharges      7032 non-null   float64\n",
      " 20  Churn             7043 non-null   object \n",
      "dtypes: float64(2), int64(2), object(17)\n",
      "memory usage: 1.1+ MB\n"
     ]
    }
   ],
   "source": [
    "df.info()"
   ]
  },
  {
   "cell_type": "code",
   "execution_count": 451,
   "id": "84f47a08",
   "metadata": {},
   "outputs": [
    {
     "data": {
      "text/plain": [
       "customerID           0\n",
       "gender               0\n",
       "SeniorCitizen        0\n",
       "Partner              0\n",
       "Dependents           0\n",
       "tenure               0\n",
       "PhoneService         0\n",
       "MultipleLines        0\n",
       "InternetService      0\n",
       "OnlineSecurity       0\n",
       "OnlineBackup         0\n",
       "DeviceProtection     0\n",
       "TechSupport          0\n",
       "StreamingTV          0\n",
       "StreamingMovies      0\n",
       "Contract             0\n",
       "PaperlessBilling     0\n",
       "PaymentMethod        0\n",
       "MonthlyCharges       0\n",
       "TotalCharges        11\n",
       "Churn                0\n",
       "dtype: int64"
      ]
     },
     "execution_count": 451,
     "metadata": {},
     "output_type": "execute_result"
    }
   ],
   "source": [
    "df.isna().sum() # since TotalCharges has 11 null values, I will drop those from dataset"
   ]
  },
  {
   "cell_type": "code",
   "execution_count": 452,
   "id": "90b61d0c",
   "metadata": {},
   "outputs": [],
   "source": [
    "df.dropna(inplace = True)"
   ]
  },
  {
   "cell_type": "code",
   "execution_count": 453,
   "id": "6df28da3",
   "metadata": {},
   "outputs": [
    {
     "data": {
      "text/plain": [
       "customerID          0\n",
       "gender              0\n",
       "SeniorCitizen       0\n",
       "Partner             0\n",
       "Dependents          0\n",
       "tenure              0\n",
       "PhoneService        0\n",
       "MultipleLines       0\n",
       "InternetService     0\n",
       "OnlineSecurity      0\n",
       "OnlineBackup        0\n",
       "DeviceProtection    0\n",
       "TechSupport         0\n",
       "StreamingTV         0\n",
       "StreamingMovies     0\n",
       "Contract            0\n",
       "PaperlessBilling    0\n",
       "PaymentMethod       0\n",
       "MonthlyCharges      0\n",
       "TotalCharges        0\n",
       "Churn               0\n",
       "dtype: int64"
      ]
     },
     "execution_count": 453,
     "metadata": {},
     "output_type": "execute_result"
    }
   ],
   "source": [
    "df.isna().sum()"
   ]
  },
  {
   "cell_type": "code",
   "execution_count": 454,
   "id": "e2784049",
   "metadata": {},
   "outputs": [
    {
     "data": {
      "text/plain": [
       "customerID          7032\n",
       "gender                 2\n",
       "SeniorCitizen          2\n",
       "Partner                2\n",
       "Dependents             2\n",
       "tenure                72\n",
       "PhoneService           2\n",
       "MultipleLines          3\n",
       "InternetService        3\n",
       "OnlineSecurity         3\n",
       "OnlineBackup           3\n",
       "DeviceProtection       3\n",
       "TechSupport            3\n",
       "StreamingTV            3\n",
       "StreamingMovies        3\n",
       "Contract               3\n",
       "PaperlessBilling       2\n",
       "PaymentMethod          4\n",
       "MonthlyCharges      1584\n",
       "TotalCharges        6530\n",
       "Churn                  2\n",
       "dtype: int64"
      ]
     },
     "execution_count": 454,
     "metadata": {},
     "output_type": "execute_result"
    }
   ],
   "source": [
    "df.nunique()"
   ]
  },
  {
   "cell_type": "code",
   "execution_count": 455,
   "id": "3b917e11",
   "metadata": {},
   "outputs": [
    {
     "name": "stdout",
     "output_type": "stream",
     "text": [
      "<class 'pandas.core.frame.DataFrame'>\n",
      "Int64Index: 7032 entries, 0 to 7042\n",
      "Data columns (total 21 columns):\n",
      " #   Column            Non-Null Count  Dtype  \n",
      "---  ------            --------------  -----  \n",
      " 0   customerID        7032 non-null   object \n",
      " 1   gender            7032 non-null   object \n",
      " 2   SeniorCitizen     7032 non-null   int64  \n",
      " 3   Partner           7032 non-null   object \n",
      " 4   Dependents        7032 non-null   object \n",
      " 5   tenure            7032 non-null   int64  \n",
      " 6   PhoneService      7032 non-null   object \n",
      " 7   MultipleLines     7032 non-null   object \n",
      " 8   InternetService   7032 non-null   object \n",
      " 9   OnlineSecurity    7032 non-null   object \n",
      " 10  OnlineBackup      7032 non-null   object \n",
      " 11  DeviceProtection  7032 non-null   object \n",
      " 12  TechSupport       7032 non-null   object \n",
      " 13  StreamingTV       7032 non-null   object \n",
      " 14  StreamingMovies   7032 non-null   object \n",
      " 15  Contract          7032 non-null   object \n",
      " 16  PaperlessBilling  7032 non-null   object \n",
      " 17  PaymentMethod     7032 non-null   object \n",
      " 18  MonthlyCharges    7032 non-null   float64\n",
      " 19  TotalCharges      7032 non-null   float64\n",
      " 20  Churn             7032 non-null   object \n",
      "dtypes: float64(2), int64(2), object(17)\n",
      "memory usage: 1.2+ MB\n"
     ]
    }
   ],
   "source": [
    "df.info() # all good now!"
   ]
  },
  {
   "cell_type": "markdown",
   "id": "4badb4f6",
   "metadata": {},
   "source": [
    "#### 3. EDA — 3–4 plots max; tie each to a hypothesis."
   ]
  },
  {
   "cell_type": "code",
   "execution_count": 456,
   "id": "67ffd918",
   "metadata": {},
   "outputs": [],
   "source": [
    "# first drop id column\n",
    "\n",
    "df = df.drop('customerID', axis=1)"
   ]
  },
  {
   "cell_type": "code",
   "execution_count": 457,
   "id": "4bdbbd96",
   "metadata": {},
   "outputs": [],
   "source": [
    "# categorical vars plots\n",
    "\n",
    "num_vars = df.select_dtypes(include = 'number').columns.tolist()\n",
    "cat_vars = df.select_dtypes(exclude = 'number').columns.tolist()"
   ]
  },
  {
   "cell_type": "code",
   "execution_count": 458,
   "id": "b7d70ecf",
   "metadata": {},
   "outputs": [
    {
     "data": {
      "text/plain": [
       "['gender',\n",
       " 'Partner',\n",
       " 'Dependents',\n",
       " 'PhoneService',\n",
       " 'MultipleLines',\n",
       " 'InternetService',\n",
       " 'OnlineSecurity',\n",
       " 'OnlineBackup',\n",
       " 'DeviceProtection',\n",
       " 'TechSupport',\n",
       " 'StreamingTV',\n",
       " 'StreamingMovies',\n",
       " 'Contract',\n",
       " 'PaperlessBilling',\n",
       " 'PaymentMethod',\n",
       " 'Churn']"
      ]
     },
     "execution_count": 458,
     "metadata": {},
     "output_type": "execute_result"
    }
   ],
   "source": [
    "cat_vars"
   ]
  },
  {
   "cell_type": "markdown",
   "id": "da768c4b",
   "metadata": {},
   "source": [
    "first let's visualize distribution for categorical variables"
   ]
  },
  {
   "cell_type": "code",
   "execution_count": 459,
   "id": "52f09c5a",
   "metadata": {},
   "outputs": [
    {
     "data": {
      "image/png": "[encoded data removed]",
      "text/plain": [
       "<Figure size 1800x1000 with 9 Axes>"
      ]
     },
     "metadata": {},
     "output_type": "display_data"
    },
    {
     "data": {
      "image/png": "[encoded data removed]",
      "text/plain": [
       "<Figure size 1800x1000 with 6 Axes>"
      ]
     },
     "metadata": {},
     "output_type": "display_data"
    },
    {
     "data": {
      "image/png": "[encoded data removed]",
      "text/plain": [
       "<Figure size 800x200 with 1 Axes>"
      ]
     },
     "metadata": {},
     "output_type": "display_data"
    }
   ],
   "source": [
    "# categorical attributes\n",
    "\n",
    "fig, axes = plt.subplots(figsize=(18, 10), nrows=3, ncols=3)\n",
    "sns.countplot(x=\"gender\", data=df, ax=axes[0][0])\n",
    "sns.countplot(x=\"Partner\", data=df, ax=axes[0][1])\n",
    "sns.countplot(x=\"Dependents\", data=df, ax=axes[0][2])\n",
    "sns.countplot(x=\"PhoneService\", data=df, ax=axes[1][0])\n",
    "sns.countplot(x=\"MultipleLines\", data=df, ax=axes[1][1])\n",
    "sns.countplot(x=\"InternetService\", data=df, ax=axes[1][2])\n",
    "sns.countplot(x=\"OnlineSecurity\", data=df, ax=axes[2][0])\n",
    "sns.countplot(x=\"OnlineBackup\", data=df, ax=axes[2][1])\n",
    "sns.countplot(x=\"DeviceProtection\", data=df, ax=axes[2][2])\n",
    "\n",
    "fig2, axes2 = plt.subplots(figsize=(18, 10), nrows=2, ncols=3)\n",
    "sns.countplot(x=\"TechSupport\", data=df, ax=axes2[0][0])\n",
    "sns.countplot(x=\"StreamingTV\", data=df, ax=axes2[0][1])\n",
    "sns.countplot(x=\"Churn\", data=df, ax=axes2[0][2])\n",
    "sns.countplot(x=\"Contract\", data=df, ax=axes2[1][0])\n",
    "sns.countplot(x=\"PaperlessBilling\", data=df, ax=axes2[1][1])\n",
    "sns.countplot(x=\"StreamingMovies\", data=df, ax=axes2[1][2])\n",
    "\n",
    "fig3, axes3 = plt.subplots(figsize=(8, 2))\n",
    "sns.countplot(x=\"PaymentMethod\", data=df, ax=axes3)\n",
    "fig3.tight_layout()"
   ]
  },
  {
   "cell_type": "markdown",
   "id": "3b99f4fe",
   "metadata": {},
   "source": [
    "proportion breakdowns to see outliers quantitatively"
   ]
  },
  {
   "cell_type": "code",
   "execution_count": 460,
   "id": "522d4511",
   "metadata": {},
   "outputs": [
    {
     "data": {
      "text/plain": [
       "'gender'"
      ]
     },
     "metadata": {},
     "output_type": "display_data"
    },
    {
     "data": {
      "text/plain": [
       "Male      0.505\n",
       "Female    0.495\n",
       "Name: gender, dtype: float64"
      ]
     },
     "metadata": {},
     "output_type": "display_data"
    },
    {
     "data": {
      "text/plain": [
       "'Partner'"
      ]
     },
     "metadata": {},
     "output_type": "display_data"
    },
    {
     "data": {
      "text/plain": [
       "No     0.517\n",
       "Yes    0.483\n",
       "Name: Partner, dtype: float64"
      ]
     },
     "metadata": {},
     "output_type": "display_data"
    },
    {
     "data": {
      "text/plain": [
       "'Dependents'"
      ]
     },
     "metadata": {},
     "output_type": "display_data"
    },
    {
     "data": {
      "text/plain": [
       "No     0.702\n",
       "Yes    0.298\n",
       "Name: Dependents, dtype: float64"
      ]
     },
     "metadata": {},
     "output_type": "display_data"
    },
    {
     "data": {
      "text/plain": [
       "'PhoneService'"
      ]
     },
     "metadata": {},
     "output_type": "display_data"
    },
    {
     "data": {
      "text/plain": [
       "Yes    0.903\n",
       "No     0.097\n",
       "Name: PhoneService, dtype: float64"
      ]
     },
     "metadata": {},
     "output_type": "display_data"
    },
    {
     "data": {
      "text/plain": [
       "'MultipleLines'"
      ]
     },
     "metadata": {},
     "output_type": "display_data"
    },
    {
     "data": {
      "text/plain": [
       "No                  0.481\n",
       "Yes                 0.422\n",
       "No phone service    0.097\n",
       "Name: MultipleLines, dtype: float64"
      ]
     },
     "metadata": {},
     "output_type": "display_data"
    },
    {
     "data": {
      "text/plain": [
       "'InternetService'"
      ]
     },
     "metadata": {},
     "output_type": "display_data"
    },
    {
     "data": {
      "text/plain": [
       "Fiber optic    0.440\n",
       "DSL            0.344\n",
       "No             0.216\n",
       "Name: InternetService, dtype: float64"
      ]
     },
     "metadata": {},
     "output_type": "display_data"
    },
    {
     "data": {
      "text/plain": [
       "'OnlineSecurity'"
      ]
     },
     "metadata": {},
     "output_type": "display_data"
    },
    {
     "data": {
      "text/plain": [
       "No                     0.497\n",
       "Yes                    0.287\n",
       "No internet service    0.216\n",
       "Name: OnlineSecurity, dtype: float64"
      ]
     },
     "metadata": {},
     "output_type": "display_data"
    },
    {
     "data": {
      "text/plain": [
       "'OnlineBackup'"
      ]
     },
     "metadata": {},
     "output_type": "display_data"
    },
    {
     "data": {
      "text/plain": [
       "No                     0.439\n",
       "Yes                    0.345\n",
       "No internet service    0.216\n",
       "Name: OnlineBackup, dtype: float64"
      ]
     },
     "metadata": {},
     "output_type": "display_data"
    },
    {
     "data": {
      "text/plain": [
       "'DeviceProtection'"
      ]
     },
     "metadata": {},
     "output_type": "display_data"
    },
    {
     "data": {
      "text/plain": [
       "No                     0.440\n",
       "Yes                    0.344\n",
       "No internet service    0.216\n",
       "Name: DeviceProtection, dtype: float64"
      ]
     },
     "metadata": {},
     "output_type": "display_data"
    },
    {
     "data": {
      "text/plain": [
       "'TechSupport'"
      ]
     },
     "metadata": {},
     "output_type": "display_data"
    },
    {
     "data": {
      "text/plain": [
       "No                     0.494\n",
       "Yes                    0.290\n",
       "No internet service    0.216\n",
       "Name: TechSupport, dtype: float64"
      ]
     },
     "metadata": {},
     "output_type": "display_data"
    },
    {
     "data": {
      "text/plain": [
       "'StreamingTV'"
      ]
     },
     "metadata": {},
     "output_type": "display_data"
    },
    {
     "data": {
      "text/plain": [
       "No                     0.399\n",
       "Yes                    0.384\n",
       "No internet service    0.216\n",
       "Name: StreamingTV, dtype: float64"
      ]
     },
     "metadata": {},
     "output_type": "display_data"
    },
    {
     "data": {
      "text/plain": [
       "'StreamingMovies'"
      ]
     },
     "metadata": {},
     "output_type": "display_data"
    },
    {
     "data": {
      "text/plain": [
       "No                     0.395\n",
       "Yes                    0.388\n",
       "No internet service    0.216\n",
       "Name: StreamingMovies, dtype: float64"
      ]
     },
     "metadata": {},
     "output_type": "display_data"
    },
    {
     "data": {
      "text/plain": [
       "'Contract'"
      ]
     },
     "metadata": {},
     "output_type": "display_data"
    },
    {
     "data": {
      "text/plain": [
       "Month-to-month    0.551\n",
       "Two year          0.240\n",
       "One year          0.209\n",
       "Name: Contract, dtype: float64"
      ]
     },
     "metadata": {},
     "output_type": "display_data"
    },
    {
     "data": {
      "text/plain": [
       "'PaperlessBilling'"
      ]
     },
     "metadata": {},
     "output_type": "display_data"
    },
    {
     "data": {
      "text/plain": [
       "Yes    0.593\n",
       "No     0.407\n",
       "Name: PaperlessBilling, dtype: float64"
      ]
     },
     "metadata": {},
     "output_type": "display_data"
    },
    {
     "data": {
      "text/plain": [
       "'PaymentMethod'"
      ]
     },
     "metadata": {},
     "output_type": "display_data"
    },
    {
     "data": {
      "text/plain": [
       "Electronic check             0.336\n",
       "Mailed check                 0.228\n",
       "Bank transfer (automatic)    0.219\n",
       "Credit card (automatic)      0.216\n",
       "Name: PaymentMethod, dtype: float64"
      ]
     },
     "metadata": {},
     "output_type": "display_data"
    },
    {
     "data": {
      "text/plain": [
       "'Churn'"
      ]
     },
     "metadata": {},
     "output_type": "display_data"
    },
    {
     "data": {
      "text/plain": [
       "No     0.734\n",
       "Yes    0.266\n",
       "Name: Churn, dtype: float64"
      ]
     },
     "metadata": {},
     "output_type": "display_data"
    }
   ],
   "source": [
    "for col in cat_vars:\n",
    "    display(f\"{col}\", df[col].value_counts(normalize=True).round(3))"
   ]
  },
  {
   "cell_type": "markdown",
   "id": "4c94f8fc",
   "metadata": {},
   "source": [
    "does not seem to be any outliers for categorical variables - no like minority values across categorical variables"
   ]
  },
  {
   "cell_type": "code",
   "execution_count": 461,
   "id": "f75d8079",
   "metadata": {},
   "outputs": [
    {
     "data": {
      "text/plain": [
       "['SeniorCitizen', 'tenure', 'MonthlyCharges', 'TotalCharges']"
      ]
     },
     "execution_count": 461,
     "metadata": {},
     "output_type": "execute_result"
    }
   ],
   "source": [
    "# numerical vars plots\n",
    "num_vars"
   ]
  },
  {
   "cell_type": "code",
   "execution_count": 462,
   "id": "5c0c07c6",
   "metadata": {},
   "outputs": [
    {
     "data": {
      "image/png": "[encoded data removed]",
      "text/plain": [
       "<Figure size 1000x400 with 4 Axes>"
      ]
     },
     "metadata": {},
     "output_type": "display_data"
    }
   ],
   "source": [
    "fig, axes = plt.subplots(figsize=(10, 4), nrows = 2, ncols = 2)\n",
    "sns.histplot(x = \"SeniorCitizen\", data = df, ax = axes[0][0])\n",
    "sns.histplot(x = \"tenure\", data = df, ax = axes[0][1])\n",
    "sns.histplot(x = \"MonthlyCharges\", data = df, ax = axes[1][0])\n",
    "sns.histplot(x = \"TotalCharges\", data = df, ax = axes[1][1])\n",
    "fig.tight_layout()"
   ]
  },
  {
   "cell_type": "markdown",
   "id": "9f10899d",
   "metadata": {},
   "source": [
    "numerical variables also seem normal, TotalCharges is skewed with outliers to the right so could consider cutting off but will keep for now."
   ]
  },
  {
   "cell_type": "markdown",
   "id": "f92885ce",
   "metadata": {},
   "source": [
    "now time to make correlation plot"
   ]
  },
  {
   "cell_type": "markdown",
   "id": "0ec1ee40",
   "metadata": {},
   "source": [
    "want to convert cat into num so i can get a corr plot to see all var corr with churn"
   ]
  },
  {
   "cell_type": "code",
   "execution_count": 463,
   "id": "5d9c558f",
   "metadata": {},
   "outputs": [],
   "source": [
    "# gender: Male (0) Female (1)\n",
    "# Partner Yes No\n",
    "# Dependents Yes No\n",
    "# PhoneService Yes No\n",
    "# Churn Yes No\n",
    "# PaperlessBilling Yes No\n",
    "# Contract: Month-to-month(0)/One year(1)/Two year(2)\n",
    "\n",
    "df['gender'] = df['gender'].map({'Male': 0, 'Female': 1}).astype(int)\n",
    "\n",
    "df['Partner'] = df['Partner'].map({'No': 0, 'Yes': 1}).astype(int)\n",
    "df['Dependents'] = df['Dependents'].map({'No': 0, 'Yes': 1}).astype(int)\n",
    "df['PhoneService'] = df['PhoneService'].map({'No': 0, 'Yes': 1}).astype(int)\n",
    "df['Churn'] = df['Churn'].map({'No': 0, 'Yes': 1}).astype(int)\n",
    "df['PaperlessBilling'] = df['PaperlessBilling'].map({'No': 0, 'Yes': 1}).astype(int)\n",
    "\n",
    "df['Contract'] = df['Contract'].map({'Month-to-month': 0, 'One year': 1, 'Two year': 2}).astype(int)"
   ]
  },
  {
   "cell_type": "code",
   "execution_count": 464,
   "id": "6f3892d8",
   "metadata": {},
   "outputs": [
    {
     "data": {
      "text/plain": [
       "gender                int64\n",
       "SeniorCitizen         int64\n",
       "Partner               int64\n",
       "Dependents            int64\n",
       "tenure                int64\n",
       "PhoneService          int64\n",
       "MultipleLines        object\n",
       "InternetService      object\n",
       "OnlineSecurity       object\n",
       "OnlineBackup         object\n",
       "DeviceProtection     object\n",
       "TechSupport          object\n",
       "StreamingTV          object\n",
       "StreamingMovies      object\n",
       "Contract              int64\n",
       "PaperlessBilling      int64\n",
       "PaymentMethod        object\n",
       "MonthlyCharges      float64\n",
       "TotalCharges        float64\n",
       "Churn                 int64\n",
       "dtype: object"
      ]
     },
     "execution_count": 464,
     "metadata": {},
     "output_type": "execute_result"
    }
   ],
   "source": [
    "df.dtypes # still need to convert MultipleLines, InternetService, OnlineSecurity, OnlineBackup,\n",
    "            # DeviceProtection, TechSupport, StreamingTV, StreamingMovies, PaymentMethod\n",
    "            "
   ]
  },
  {
   "cell_type": "code",
   "execution_count": 465,
   "id": "c8ef15e5",
   "metadata": {},
   "outputs": [],
   "source": [
    "# MultipleLines: Yes, No, No phone service\n",
    "# OnlineSecurity: No, Yes, No internet service\n",
    "# OnlineBackup: Yes, No, No internet service\n",
    "# DeviceProtection: No, Yes, No internet service\n",
    "# TechSupport: No, Yes, No internet service\n",
    "# StreamingTV: No, Yes, No internet service\n",
    "# StreamingMovies: No, Yes, No internet service\n",
    "\n",
    "df['MultipleLines'] = pd.Categorical(df['MultipleLines'], categories=['No phone service','No','Yes'])\n",
    "df['OnlineSecurity'] = pd.Categorical(df['OnlineSecurity'], categories=['No internet service','No','Yes'])\n",
    "df['OnlineBackup'] = pd.Categorical(df['OnlineBackup'], categories=['No internet service','No','Yes'])\n",
    "df['DeviceProtection'] = pd.Categorical(df['DeviceProtection'], categories=['No internet service','No','Yes'])\n",
    "df['TechSupport'] = pd.Categorical(df['TechSupport'], categories=['No internet service','No','Yes'])\n",
    "df['StreamingTV'] = pd.Categorical(df['StreamingTV'], categories=['No internet service','No','Yes'])\n",
    "df['StreamingMovies'] = pd.Categorical(df['StreamingMovies'], categories=['No internet service','No','Yes'])\n",
    "\n",
    "# InternetService: DSL, Fiber optic, No\n",
    "# PaymentMethod: Electronic check, Mailed check, Bank transfer (automatic), Credit card (automatic)\n",
    "df['InternetService'] = pd.Categorical(df['InternetService'], categories=['No','DSL','Fiber optic'])\n",
    "df['PaymentMethod'] = pd.Categorical(df['PaymentMethod'], categories=['Electronic check', 'Mailed check',\n",
    "                                                                      'Bank transfer (automatic)',\n",
    "                                                                      'Credit card (automatic)'])"
   ]
  },
  {
   "cell_type": "code",
   "execution_count": 466,
   "id": "27245809",
   "metadata": {},
   "outputs": [
    {
     "data": {
      "text/html": [
       "<div>\n",
       "<style scoped>\n",
       "    .dataframe tbody tr th:only-of-type {\n",
       "        vertical-align: middle;\n",
       "    }\n",
       "\n",
       "    .dataframe tbody tr th {\n",
       "        vertical-align: top;\n",
       "    }\n",
       "\n",
       "    .dataframe thead th {\n",
       "        text-align: right;\n",
       "    }\n",
       "</style>\n",
       "<table border=\"1\" class=\"dataframe\">\n",
       "  <thead>\n",
       "    <tr style=\"text-align: right;\">\n",
       "      <th></th>\n",
       "      <th>gender</th>\n",
       "      <th>SeniorCitizen</th>\n",
       "      <th>Partner</th>\n",
       "      <th>Dependents</th>\n",
       "      <th>tenure</th>\n",
       "      <th>PhoneService</th>\n",
       "      <th>Contract</th>\n",
       "      <th>PaperlessBilling</th>\n",
       "      <th>MonthlyCharges</th>\n",
       "      <th>TotalCharges</th>\n",
       "      <th>...</th>\n",
       "      <th>TechSupport_Yes</th>\n",
       "      <th>StreamingTV_No</th>\n",
       "      <th>StreamingTV_Yes</th>\n",
       "      <th>StreamingMovies_No</th>\n",
       "      <th>StreamingMovies_Yes</th>\n",
       "      <th>InternetService_DSL</th>\n",
       "      <th>InternetService_Fiber optic</th>\n",
       "      <th>PaymentMethod_Mailed check</th>\n",
       "      <th>PaymentMethod_Bank transfer (automatic)</th>\n",
       "      <th>PaymentMethod_Credit card (automatic)</th>\n",
       "    </tr>\n",
       "  </thead>\n",
       "  <tbody>\n",
       "    <tr>\n",
       "      <th>0</th>\n",
       "      <td>1</td>\n",
       "      <td>0</td>\n",
       "      <td>1</td>\n",
       "      <td>0</td>\n",
       "      <td>1</td>\n",
       "      <td>0</td>\n",
       "      <td>0</td>\n",
       "      <td>1</td>\n",
       "      <td>29.85</td>\n",
       "      <td>29.85</td>\n",
       "      <td>...</td>\n",
       "      <td>0</td>\n",
       "      <td>1</td>\n",
       "      <td>0</td>\n",
       "      <td>1</td>\n",
       "      <td>0</td>\n",
       "      <td>1</td>\n",
       "      <td>0</td>\n",
       "      <td>0</td>\n",
       "      <td>0</td>\n",
       "      <td>0</td>\n",
       "    </tr>\n",
       "    <tr>\n",
       "      <th>1</th>\n",
       "      <td>0</td>\n",
       "      <td>0</td>\n",
       "      <td>0</td>\n",
       "      <td>0</td>\n",
       "      <td>34</td>\n",
       "      <td>1</td>\n",
       "      <td>1</td>\n",
       "      <td>0</td>\n",
       "      <td>56.95</td>\n",
       "      <td>1889.50</td>\n",
       "      <td>...</td>\n",
       "      <td>0</td>\n",
       "      <td>1</td>\n",
       "      <td>0</td>\n",
       "      <td>1</td>\n",
       "      <td>0</td>\n",
       "      <td>1</td>\n",
       "      <td>0</td>\n",
       "      <td>1</td>\n",
       "      <td>0</td>\n",
       "      <td>0</td>\n",
       "    </tr>\n",
       "    <tr>\n",
       "      <th>2</th>\n",
       "      <td>0</td>\n",
       "      <td>0</td>\n",
       "      <td>0</td>\n",
       "      <td>0</td>\n",
       "      <td>2</td>\n",
       "      <td>1</td>\n",
       "      <td>0</td>\n",
       "      <td>1</td>\n",
       "      <td>53.85</td>\n",
       "      <td>108.15</td>\n",
       "      <td>...</td>\n",
       "      <td>0</td>\n",
       "      <td>1</td>\n",
       "      <td>0</td>\n",
       "      <td>1</td>\n",
       "      <td>0</td>\n",
       "      <td>1</td>\n",
       "      <td>0</td>\n",
       "      <td>1</td>\n",
       "      <td>0</td>\n",
       "      <td>0</td>\n",
       "    </tr>\n",
       "    <tr>\n",
       "      <th>3</th>\n",
       "      <td>0</td>\n",
       "      <td>0</td>\n",
       "      <td>0</td>\n",
       "      <td>0</td>\n",
       "      <td>45</td>\n",
       "      <td>0</td>\n",
       "      <td>1</td>\n",
       "      <td>0</td>\n",
       "      <td>42.30</td>\n",
       "      <td>1840.75</td>\n",
       "      <td>...</td>\n",
       "      <td>1</td>\n",
       "      <td>1</td>\n",
       "      <td>0</td>\n",
       "      <td>1</td>\n",
       "      <td>0</td>\n",
       "      <td>1</td>\n",
       "      <td>0</td>\n",
       "      <td>0</td>\n",
       "      <td>1</td>\n",
       "      <td>0</td>\n",
       "    </tr>\n",
       "    <tr>\n",
       "      <th>4</th>\n",
       "      <td>1</td>\n",
       "      <td>0</td>\n",
       "      <td>0</td>\n",
       "      <td>0</td>\n",
       "      <td>2</td>\n",
       "      <td>1</td>\n",
       "      <td>0</td>\n",
       "      <td>1</td>\n",
       "      <td>70.70</td>\n",
       "      <td>151.65</td>\n",
       "      <td>...</td>\n",
       "      <td>0</td>\n",
       "      <td>1</td>\n",
       "      <td>0</td>\n",
       "      <td>1</td>\n",
       "      <td>0</td>\n",
       "      <td>0</td>\n",
       "      <td>1</td>\n",
       "      <td>0</td>\n",
       "      <td>0</td>\n",
       "      <td>0</td>\n",
       "    </tr>\n",
       "    <tr>\n",
       "      <th>...</th>\n",
       "      <td>...</td>\n",
       "      <td>...</td>\n",
       "      <td>...</td>\n",
       "      <td>...</td>\n",
       "      <td>...</td>\n",
       "      <td>...</td>\n",
       "      <td>...</td>\n",
       "      <td>...</td>\n",
       "      <td>...</td>\n",
       "      <td>...</td>\n",
       "      <td>...</td>\n",
       "      <td>...</td>\n",
       "      <td>...</td>\n",
       "      <td>...</td>\n",
       "      <td>...</td>\n",
       "      <td>...</td>\n",
       "      <td>...</td>\n",
       "      <td>...</td>\n",
       "      <td>...</td>\n",
       "      <td>...</td>\n",
       "      <td>...</td>\n",
       "    </tr>\n",
       "    <tr>\n",
       "      <th>7038</th>\n",
       "      <td>0</td>\n",
       "      <td>0</td>\n",
       "      <td>1</td>\n",
       "      <td>1</td>\n",
       "      <td>24</td>\n",
       "      <td>1</td>\n",
       "      <td>1</td>\n",
       "      <td>1</td>\n",
       "      <td>84.80</td>\n",
       "      <td>1990.50</td>\n",
       "      <td>...</td>\n",
       "      <td>1</td>\n",
       "      <td>0</td>\n",
       "      <td>1</td>\n",
       "      <td>0</td>\n",
       "      <td>1</td>\n",
       "      <td>1</td>\n",
       "      <td>0</td>\n",
       "      <td>1</td>\n",
       "      <td>0</td>\n",
       "      <td>0</td>\n",
       "    </tr>\n",
       "    <tr>\n",
       "      <th>7039</th>\n",
       "      <td>1</td>\n",
       "      <td>0</td>\n",
       "      <td>1</td>\n",
       "      <td>1</td>\n",
       "      <td>72</td>\n",
       "      <td>1</td>\n",
       "      <td>1</td>\n",
       "      <td>1</td>\n",
       "      <td>103.20</td>\n",
       "      <td>7362.90</td>\n",
       "      <td>...</td>\n",
       "      <td>0</td>\n",
       "      <td>0</td>\n",
       "      <td>1</td>\n",
       "      <td>0</td>\n",
       "      <td>1</td>\n",
       "      <td>0</td>\n",
       "      <td>1</td>\n",
       "      <td>0</td>\n",
       "      <td>0</td>\n",
       "      <td>1</td>\n",
       "    </tr>\n",
       "    <tr>\n",
       "      <th>7040</th>\n",
       "      <td>1</td>\n",
       "      <td>0</td>\n",
       "      <td>1</td>\n",
       "      <td>1</td>\n",
       "      <td>11</td>\n",
       "      <td>0</td>\n",
       "      <td>0</td>\n",
       "      <td>1</td>\n",
       "      <td>29.60</td>\n",
       "      <td>346.45</td>\n",
       "      <td>...</td>\n",
       "      <td>0</td>\n",
       "      <td>1</td>\n",
       "      <td>0</td>\n",
       "      <td>1</td>\n",
       "      <td>0</td>\n",
       "      <td>1</td>\n",
       "      <td>0</td>\n",
       "      <td>0</td>\n",
       "      <td>0</td>\n",
       "      <td>0</td>\n",
       "    </tr>\n",
       "    <tr>\n",
       "      <th>7041</th>\n",
       "      <td>0</td>\n",
       "      <td>1</td>\n",
       "      <td>1</td>\n",
       "      <td>0</td>\n",
       "      <td>4</td>\n",
       "      <td>1</td>\n",
       "      <td>0</td>\n",
       "      <td>1</td>\n",
       "      <td>74.40</td>\n",
       "      <td>306.60</td>\n",
       "      <td>...</td>\n",
       "      <td>0</td>\n",
       "      <td>1</td>\n",
       "      <td>0</td>\n",
       "      <td>1</td>\n",
       "      <td>0</td>\n",
       "      <td>0</td>\n",
       "      <td>1</td>\n",
       "      <td>1</td>\n",
       "      <td>0</td>\n",
       "      <td>0</td>\n",
       "    </tr>\n",
       "    <tr>\n",
       "      <th>7042</th>\n",
       "      <td>0</td>\n",
       "      <td>0</td>\n",
       "      <td>0</td>\n",
       "      <td>0</td>\n",
       "      <td>66</td>\n",
       "      <td>1</td>\n",
       "      <td>2</td>\n",
       "      <td>1</td>\n",
       "      <td>105.65</td>\n",
       "      <td>6844.50</td>\n",
       "      <td>...</td>\n",
       "      <td>1</td>\n",
       "      <td>0</td>\n",
       "      <td>1</td>\n",
       "      <td>0</td>\n",
       "      <td>1</td>\n",
       "      <td>0</td>\n",
       "      <td>1</td>\n",
       "      <td>0</td>\n",
       "      <td>1</td>\n",
       "      <td>0</td>\n",
       "    </tr>\n",
       "  </tbody>\n",
       "</table>\n",
       "<p>7032 rows × 30 columns</p>\n",
       "</div>"
      ],
      "text/plain": [
       "      gender  SeniorCitizen  Partner  Dependents  tenure  PhoneService  \\\n",
       "0          1              0        1           0       1             0   \n",
       "1          0              0        0           0      34             1   \n",
       "2          0              0        0           0       2             1   \n",
       "3          0              0        0           0      45             0   \n",
       "4          1              0        0           0       2             1   \n",
       "...      ...            ...      ...         ...     ...           ...   \n",
       "7038       0              0        1           1      24             1   \n",
       "7039       1              0        1           1      72             1   \n",
       "7040       1              0        1           1      11             0   \n",
       "7041       0              1        1           0       4             1   \n",
       "7042       0              0        0           0      66             1   \n",
       "\n",
       "      Contract  PaperlessBilling  MonthlyCharges  TotalCharges  ...  \\\n",
       "0            0                 1           29.85         29.85  ...   \n",
       "1            1                 0           56.95       1889.50  ...   \n",
       "2            0                 1           53.85        108.15  ...   \n",
       "3            1                 0           42.30       1840.75  ...   \n",
       "4            0                 1           70.70        151.65  ...   \n",
       "...        ...               ...             ...           ...  ...   \n",
       "7038         1                 1           84.80       1990.50  ...   \n",
       "7039         1                 1          103.20       7362.90  ...   \n",
       "7040         0                 1           29.60        346.45  ...   \n",
       "7041         0                 1           74.40        306.60  ...   \n",
       "7042         2                 1          105.65       6844.50  ...   \n",
       "\n",
       "      TechSupport_Yes  StreamingTV_No  StreamingTV_Yes  StreamingMovies_No  \\\n",
       "0                   0               1                0                   1   \n",
       "1                   0               1                0                   1   \n",
       "2                   0               1                0                   1   \n",
       "3                   1               1                0                   1   \n",
       "4                   0               1                0                   1   \n",
       "...               ...             ...              ...                 ...   \n",
       "7038                1               0                1                   0   \n",
       "7039                0               0                1                   0   \n",
       "7040                0               1                0                   1   \n",
       "7041                0               1                0                   1   \n",
       "7042                1               0                1                   0   \n",
       "\n",
       "      StreamingMovies_Yes  InternetService_DSL  InternetService_Fiber optic  \\\n",
       "0                       0                    1                            0   \n",
       "1                       0                    1                            0   \n",
       "2                       0                    1                            0   \n",
       "3                       0                    1                            0   \n",
       "4                       0                    0                            1   \n",
       "...                   ...                  ...                          ...   \n",
       "7038                    1                    1                            0   \n",
       "7039                    1                    0                            1   \n",
       "7040                    0                    1                            0   \n",
       "7041                    0                    0                            1   \n",
       "7042                    1                    0                            1   \n",
       "\n",
       "      PaymentMethod_Mailed check  PaymentMethod_Bank transfer (automatic)  \\\n",
       "0                              0                                        0   \n",
       "1                              1                                        0   \n",
       "2                              1                                        0   \n",
       "3                              0                                        1   \n",
       "4                              0                                        0   \n",
       "...                          ...                                      ...   \n",
       "7038                           1                                        0   \n",
       "7039                           0                                        0   \n",
       "7040                           0                                        0   \n",
       "7041                           1                                        0   \n",
       "7042                           0                                        1   \n",
       "\n",
       "      PaymentMethod_Credit card (automatic)  \n",
       "0                                         0  \n",
       "1                                         0  \n",
       "2                                         0  \n",
       "3                                         0  \n",
       "4                                         0  \n",
       "...                                     ...  \n",
       "7038                                      0  \n",
       "7039                                      1  \n",
       "7040                                      0  \n",
       "7041                                      0  \n",
       "7042                                      0  \n",
       "\n",
       "[7032 rows x 30 columns]"
      ]
     },
     "execution_count": 466,
     "metadata": {},
     "output_type": "execute_result"
    }
   ],
   "source": [
    "ml = pd.get_dummies(df['MultipleLines'], prefix='MultipleLines', drop_first=True)\n",
    "os = pd.get_dummies(df['OnlineSecurity'], prefix='OnlineSecurity', drop_first=True)\n",
    "ob = pd.get_dummies(df['OnlineBackup'], prefix='OnlineBackup', drop_first=True)\n",
    "dp = pd.get_dummies(df['DeviceProtection'], prefix='DeviceProtection', drop_first=True)\n",
    "ts = pd.get_dummies(df['TechSupport'], prefix='TechSupport', drop_first=True)\n",
    "st = pd.get_dummies(df['StreamingTV'], prefix='StreamingTV', drop_first=True)\n",
    "sm = pd.get_dummies(df['StreamingMovies'], prefix='StreamingMovies', drop_first=True)\n",
    "i_s = pd.get_dummies(df['InternetService'], prefix='InternetService', drop_first=True)\n",
    "pm = pd.get_dummies(df['PaymentMethod'], prefix='PaymentMethod', drop_first=True)\n",
    "\n",
    "df = pd.concat([df, ml, os, ob, dp, ts, st, sm, i_s, pm], axis=1)\n",
    "\n",
    "to_drop_cols = ['MultipleLines', 'OnlineSecurity', 'OnlineBackup', 'DeviceProtection',\n",
    "                'TechSupport', 'StreamingTV', 'StreamingMovies', 'InternetService', 'PaymentMethod']\n",
    "df = df.drop(columns = to_drop_cols)\n",
    "df"
   ]
  },
  {
   "cell_type": "code",
   "execution_count": 467,
   "id": "f3b056fa",
   "metadata": {},
   "outputs": [
    {
     "data": {
      "text/plain": [
       "Index(['gender', 'SeniorCitizen', 'Partner', 'Dependents', 'tenure',\n",
       "       'PhoneService', 'Contract', 'PaperlessBilling', 'MonthlyCharges',\n",
       "       'TotalCharges', 'Churn', 'MultipleLines_No', 'MultipleLines_Yes',\n",
       "       'OnlineSecurity_No', 'OnlineSecurity_Yes', 'OnlineBackup_No',\n",
       "       'OnlineBackup_Yes', 'DeviceProtection_No', 'DeviceProtection_Yes',\n",
       "       'TechSupport_No', 'TechSupport_Yes', 'StreamingTV_No',\n",
       "       'StreamingTV_Yes', 'StreamingMovies_No', 'StreamingMovies_Yes',\n",
       "       'InternetService_DSL', 'InternetService_Fiber optic',\n",
       "       'PaymentMethod_Mailed check', 'PaymentMethod_Bank transfer (automatic)',\n",
       "       'PaymentMethod_Credit card (automatic)'],\n",
       "      dtype='object')"
      ]
     },
     "execution_count": 467,
     "metadata": {},
     "output_type": "execute_result"
    }
   ],
   "source": [
    "df.columns"
   ]
  },
  {
   "cell_type": "code",
   "execution_count": 468,
   "id": "513ff513",
   "metadata": {},
   "outputs": [
    {
     "data": {
      "text/plain": [
       "<Axes: >"
      ]
     },
     "execution_count": 468,
     "metadata": {},
     "output_type": "execute_result"
    },
    {
     "data": {
      "image/png": "[encoded data removed]",
      "text/plain": [
       "<Figure size 640x480 with 2 Axes>"
      ]
     },
     "metadata": {},
     "output_type": "display_data"
    }
   ],
   "source": [
    "corr = df.corr()\n",
    "sns.heatmap(corr, cmap = 'coolwarm')"
   ]
  },
  {
   "cell_type": "code",
   "execution_count": 469,
   "id": "ce53eee7",
   "metadata": {},
   "outputs": [
    {
     "data": {
      "text/plain": [
       "gender                                     0.008545\n",
       "SeniorCitizen                              0.150541\n",
       "Partner                                   -0.149982\n",
       "Dependents                                -0.163128\n",
       "tenure                                    -0.354049\n",
       "PhoneService                               0.011691\n",
       "Contract                                  -0.396150\n",
       "PaperlessBilling                           0.191454\n",
       "MonthlyCharges                             0.192858\n",
       "TotalCharges                              -0.199484\n",
       "Churn                                      1.000000\n",
       "MultipleLines_No                          -0.032654\n",
       "MultipleLines_Yes                          0.040033\n",
       "OnlineSecurity_No                          0.342235\n",
       "OnlineSecurity_Yes                        -0.171270\n",
       "OnlineBackup_No                            0.267595\n",
       "OnlineBackup_Yes                          -0.082307\n",
       "DeviceProtection_No                        0.252056\n",
       "DeviceProtection_Yes                      -0.066193\n",
       "TechSupport_No                             0.336877\n",
       "TechSupport_Yes                           -0.164716\n",
       "StreamingTV_No                             0.128435\n",
       "StreamingTV_Yes                            0.063254\n",
       "StreamingMovies_No                         0.130920\n",
       "StreamingMovies_Yes                        0.060860\n",
       "InternetService_DSL                       -0.124141\n",
       "InternetService_Fiber optic                0.307463\n",
       "PaymentMethod_Mailed check                -0.090773\n",
       "PaymentMethod_Bank transfer (automatic)   -0.118136\n",
       "PaymentMethod_Credit card (automatic)     -0.134687\n",
       "Name: Churn, dtype: float64"
      ]
     },
     "execution_count": 469,
     "metadata": {},
     "output_type": "execute_result"
    }
   ],
   "source": [
    "corr['Churn']"
   ]
  },
  {
   "cell_type": "markdown",
   "id": "c55be133",
   "metadata": {},
   "source": [
    "# prelim biz insights from analysis\n",
    "\n",
    "# Contract, tenure, OnlineSecurity_No, TechSupport_No all have highest correlation above 0.33 in magnitude. tenure and contract is negative and the other 2 are positive. this means\n",
    "- the longer the contract or tenure, the lower to churn (makes sense) --> could promote this via like discounts/deals for curr customers on month-to-month contract or one year contract to upgrade their plan. or rewarding longterm customers or offering some incentives to odrive lifelong subscriptions (multi year deals) and advertising those campaigns/deals more.\n",
    "- those who have internet but say no to online security or say no to tech support are more likely to churn/leave. this could mean that online security and tech support are good for customer satisfaction and quality of product if that maeks sense. so could offer stats about that in advertising and mayb eoffer bundle deals that make internet + online security and/or tech support cheaper than it currently is to encourage them to say yes. or having like sales reps regularly check in / send compelling ads to. could have like a grid with all featuers offered  and the price for each. ALSO could offer a deal that makes online security + tech support free or reduced price for first year or x months.\n",
    "\n",
    "- bundles, intro discounts, upgrade paths, loyalty perks\n",
    "\n",
    "reminder: predict behavior to retain customers. dev focused customer retention programs."
   ]
  },
  {
   "cell_type": "markdown",
   "id": "5ac19af0",
   "metadata": {},
   "source": [
    "#### 4. Baseline — simple logistic/linear or heuristic.... / Validation — proper split/CV; report ROC-AUC (class)"
   ]
  },
  {
   "cell_type": "code",
   "execution_count": 470,
   "id": "2b597349",
   "metadata": {},
   "outputs": [],
   "source": [
    "# split 80/20 into train/test\n",
    "\n",
    "X = df.copy().drop(columns = 'Churn')\n",
    "y = df['Churn'].copy()\n",
    "trainX, testX, trainY, testY = skl.model_selection.train_test_split(X, y, test_size = 0.2, random_state = 42)"
   ]
  },
  {
   "cell_type": "code",
   "execution_count": 471,
   "id": "15c90449",
   "metadata": {},
   "outputs": [
    {
     "name": "stdout",
     "output_type": "stream",
     "text": [
      "LogisticRegression(class_weight='balanced', max_iter=1000) Report:\n",
      "CV ROC AUC: 0.847\n",
      "CV Average Precision (PR AUC): 0.658\n"
     ]
    }
   ],
   "source": [
    "def compare_cv_model(model):\n",
    "    \n",
    "    cv = skl.model_selection.StratifiedKFold(n_splits=5, shuffle=True, random_state=42)\n",
    "    scores = skl.model_selection.cross_validate(model, trainX, trainY.squeeze(), cv = cv, scoring = ('roc_auc', 'average_precision'))\n",
    "    print(f'{model} Report:')\n",
    "    cv_roc_auc = scores[\"test_roc_auc\"].mean()\n",
    "    cv_average_precision = scores[\"test_average_precision\"].mean()\n",
    "    print(f'CV ROC AUC: {cv_roc_auc:.3f}') # prob model ranks a random churner above a random non-churner (accuracY??)\n",
    "    print(f'CV Average Precision (PR AUC): {cv_average_precision:.3f}') # area under the precision–recall curve; compare to the base churn rate\n",
    "    \n",
    "lr = skl.linear_model.LogisticRegression(max_iter = 1000, class_weight = 'balanced')\n",
    "compare_cv_model(lr)"
   ]
  },
  {
   "cell_type": "markdown",
   "id": "ba9c4bdd",
   "metadata": {},
   "source": [
    "#### 5. Models — try others (justify choices - TODO:)"
   ]
  },
  {
   "cell_type": "code",
   "execution_count": 472,
   "id": "41922b63",
   "metadata": {},
   "outputs": [
    {
     "name": "stdout",
     "output_type": "stream",
     "text": [
      "GradientBoostingClassifier() Report:\n",
      "CV ROC AUC: 0.848\n",
      "CV Average Precision (PR AUC): 0.666\n",
      "RandomForestClassifier() Report:\n",
      "CV ROC AUC: 0.824\n",
      "CV Average Precision (PR AUC): 0.621\n"
     ]
    }
   ],
   "source": [
    "# logistic regression\n",
    "\n",
    "gb = skl.ensemble.GradientBoostingClassifier()\n",
    "rf = skl.ensemble.RandomForestClassifier()\n",
    "compare_cv_model(gb)\n",
    "compare_cv_model(rf)"
   ]
  },
  {
   "cell_type": "markdown",
   "id": "0cefdd62",
   "metadata": {},
   "source": [
    "ok so winner is Gradient Boosting Classifier!\n",
    "\n",
    "now to report on test data! in depth into gradient boosting classifier"
   ]
  },
  {
   "cell_type": "code",
   "execution_count": null,
   "id": "40bdb973",
   "metadata": {},
   "outputs": [
    {
     "name": "stdout",
     "output_type": "stream",
     "text": [
      "Eval of LogisticRegression(class_weight='balanced', max_iter=1000) on test set\n",
      "ROC AUC: 0.8323920257181462\n",
      "Avg Precision Score / PR AUC: 0.6292482617075056\n",
      "Eval of GradientBoostingClassifier() on test set\n",
      "ROC AUC: 0.8330455917296075\n",
      "Avg Precision Score / PR AUC: 0.6474903114440358\n"
     ]
    }
   ],
   "source": [
    "# first report AUCs on test for LogReg and GBC just to see\n",
    "\n",
    "def eval_on_test(model):\n",
    "    \n",
    "    print(f'Eval of {model} on test set')\n",
    "    model.fit(trainX, trainY.squeeze())\n",
    "    assert list(model.classes_) == [0, 1]\n",
    "    probs = model.predict_proba(testX)[:, 1]\n",
    "    test_roc_auc = skl.metrics.roc_auc_score(y_true = testY, y_score = probs) # report aucs\n",
    "    test_pr_auc = skl.metrics.average_precision_score(y_true = testY, y_score = probs) # report aucs\n",
    "    print(f'ROC AUC: {test_roc_auc}')\n",
    "    print(f'Avg Precision Score or PR AUC: {test_pr_auc}')\n",
    "    return probs\n",
    "    \n",
    "eval_on_test(lr)\n",
    "gb_probs = eval_on_test(gb)"
   ]
  },
  {
   "cell_type": "markdown",
   "id": "a51fc230",
   "metadata": {},
   "source": [
    "- Deep-dive only for the winner:\n",
    "- ---- Lift@20%\n",
    "- ---- Confusion matrix at one decision rule (pick Top-20% or 0.50), + Precision/Recall/F1.\n",
    "- ---- Drivers: LogReg → odds ratios; Booster → feature importance (+ 1 SHAP example if time)."
   ]
  },
  {
   "cell_type": "code",
   "execution_count": 474,
   "id": "fd44d130",
   "metadata": {},
   "outputs": [
    {
     "name": "stdout",
     "output_type": "stream",
     "text": [
      "our model's top-20% highest risk churn customers have a true churn rate of\n",
      "2.44 greater than that of the entire customer base\n"
     ]
    }
   ],
   "source": [
    "# Lift@20% for Gradient Booster\n",
    "\n",
    "top20mask = gb_probs >= np.quantile(gb_probs, 0.8)\n",
    "top20rate = testY[top20mask].mean()\n",
    "base_rate = testY.mean()\n",
    "lift20 = top20rate / base_rate\n",
    "print(\"our model's top-20% highest risk churn customers have a true churn rate of\")\n",
    "print(f'{lift20:.3} greater than that of the entire customer base')"
   ]
  },
  {
   "cell_type": "code",
   "execution_count": null,
   "id": "664f5686",
   "metadata": {},
   "outputs": [
    {
     "name": "stdout",
     "output_type": "stream",
     "text": [
      "Confusion Matrix: \n",
      "[[934  99]\n",
      " [191 183]]\n",
      "Precision: 0.648936170212766\n",
      " Recall: 0.4893048128342246\n",
      " F1: 0.5579268292682927\n"
     ]
    }
   ],
   "source": [
    "# Confusion matrix for Top-20% for Gradient Booster. prec/recall/f1 too\n",
    "\n",
    "# first cast top-20% as ones\n",
    "top20preds = np.zeros_like(testY)\n",
    "top20preds[top20mask] = 1\n",
    "\n",
    "cm = skl.metrics.confusion_matrix(y_true = testY, y_pred = top20preds)\n",
    "precision = skl.metrics.precision_score(y_true = testY, y_pred = top20preds)\n",
    "recall = skl.metrics.recall_score(y_true = testY, y_pred = top20preds)\n",
    "f1 = skl.metrics.f1_score(y_true = testY, y_pred = top20preds)\n",
    "\n",
    "print(f'Confusion Matrix: \\n{cm}\\nPrecision: {precision}\\n Recall: {recall}\\n F1: {f1}')\n",
    "# TP FP\n",
    "# FN TN"
   ]
  },
  {
   "cell_type": "markdown",
   "id": "d6f5beca",
   "metadata": {},
   "source": [
    "Note that for a business problem like this where we are doing, Recall has a ceiling (in this case 20/26 =77%)"
   ]
  },
  {
   "cell_type": "code",
   "execution_count": null,
   "id": "2f9bb033",
   "metadata": {},
   "outputs": [
    {
     "name": "stdout",
     "output_type": "stream",
     "text": [
      "base pred rate: 0.2103766879886283\n",
      "Confusion Matrix: \n",
      "[[929 104]\n",
      " [182 192]]\n",
      "Precision: 0.6486486486486487\n",
      " Recall: 0.5133689839572193\n",
      " F1: 0.573134328358209\n"
     ]
    }
   ],
   "source": [
    "# out of curiosity - exclude from report\n",
    "threshold_preds = np.zeros_like(testY)\n",
    "thresh50mask = gb_probs >= 0.5\n",
    "threshold_preds[thresh50mask] = 1\n",
    "print(\"base pred rate:\", threshold_preds.mean())\n",
    "\n",
    "thresh_cm = skl.metrics.confusion_matrix(y_true = testY, y_pred = threshold_preds)\n",
    "thresh_precision = skl.metrics.precision_score(y_true = testY, y_pred = threshold_preds)\n",
    "thresh_recall = skl.metrics.recall_score(y_true = testY, y_pred = threshold_preds)\n",
    "thresh_f1 = skl.metrics.f1_score(y_true = testY, y_pred = threshold_preds)\n",
    "\n",
    "print(f'Confusion Matrix: \\n{thresh_cm}\\nPrecision: {thresh_precision}\\n Recall: {thresh_recall}\\n F1: {thresh_f1}')\n",
    "# TP FP\n",
    "# FN TN"
   ]
  },
  {
   "cell_type": "code",
   "execution_count": null,
   "id": "3348f7f5",
   "metadata": {},
   "outputs": [
    {
     "data": {
      "text/plain": [
       "Contract                                   0.401923\n",
       "tenure                                     0.158863\n",
       "MonthlyCharges                             0.094036\n",
       "InternetService_Fiber optic                0.085779\n",
       "OnlineSecurity_No                          0.069512\n",
       "TotalCharges                               0.065370\n",
       "TechSupport_No                             0.051730\n",
       "PaperlessBilling                           0.013514\n",
       "SeniorCitizen                              0.011052\n",
       "MultipleLines_No                           0.008375\n",
       "PaymentMethod_Credit card (automatic)      0.006023\n",
       "StreamingMovies_Yes                        0.005665\n",
       "StreamingTV_Yes                            0.004595\n",
       "PaymentMethod_Mailed check                 0.003980\n",
       "OnlineBackup_No                            0.003870\n",
       "InternetService_DSL                        0.003296\n",
       "PhoneService                               0.003039\n",
       "Dependents                                 0.002964\n",
       "gender                                     0.001336\n",
       "PaymentMethod_Bank transfer (automatic)    0.001005\n",
       "MultipleLines_Yes                          0.000870\n",
       "DeviceProtection_Yes                       0.000806\n",
       "OnlineSecurity_Yes                         0.000633\n",
       "TechSupport_Yes                            0.000489\n",
       "Partner                                    0.000392\n",
       "StreamingTV_No                             0.000368\n",
       "StreamingMovies_No                         0.000304\n",
       "DeviceProtection_No                        0.000210\n",
       "OnlineBackup_Yes                           0.000000\n",
       "dtype: float64"
      ]
     },
     "execution_count": 488,
     "metadata": {},
     "output_type": "execute_result"
    }
   ],
   "source": [
    "# Drivers for Gradient Booster: feature importance / SHAP example\n",
    "\n",
    "# NOTE TO SEL F- add base churn rate, number customers etc. summary stats at top of notebook\n",
    "\n",
    "# tree based importance???\n",
    "pd.Series(gb.feature_importances_, index=trainX.columns).sort_values(ascending = False)"
   ]
  },
  {
   "cell_type": "code",
   "execution_count": 492,
   "id": "ceda770a",
   "metadata": {},
   "outputs": [],
   "source": [
    "# pip install shap"
   ]
  },
  {
   "cell_type": "code",
   "execution_count": 506,
   "id": "15176c99",
   "metadata": {},
   "outputs": [
    {
     "data": {
      "image/png": "[encoded data removed]",
      "text/plain": [
       "<Figure size 640x480 with 1 Axes>"
      ]
     },
     "metadata": {},
     "output_type": "display_data"
    }
   ],
   "source": [
    "# global SHAP\n",
    "import shap\n",
    "\n",
    "explainer = shap.TreeExplainer(gb)\n",
    "sv = explainer.shap_values(testX)\n",
    "global_shap = pd.Series(np.abs(sv).mean(axis=0), index=testX.columns).sort_values(ascending=False).head()\n",
    "plt.figure()\n",
    "global_shap.plot(kind='barh')\n",
    "plt.title(\"Top 5 Drivers (GBM feature importance)\")\n",
    "plt.xlabel(\"Importance (impurity reduction share)\")\n",
    "plt.tight_layout()\n",
    "plt.show()"
   ]
  },
  {
   "cell_type": "code",
   "execution_count": null,
   "id": "5973127b",
   "metadata": {},
   "outputs": [
    {
     "name": "stdout",
     "output_type": "stream",
     "text": [
      "Example customer P(churn)= 0.906\n",
      "Top + reasons:\n",
      " tenure               1.183901\n",
      "Contract             0.881357\n",
      "MonthlyCharges       0.391305\n",
      "TechSupport_No       0.266963\n",
      "OnlineSecurity_No    0.247668\n",
      "dtype: float64\n",
      "Top – reasons:\n",
      " SeniorCitizen                             -0.034779\n",
      "PhoneService                              -0.012611\n",
      "PaymentMethod_Bank transfer (automatic)   -0.006525\n",
      "OnlineSecurity_Yes                        -0.004772\n",
      "DeviceProtection_Yes                      -0.001109\n",
      "dtype: float64\n"
     ]
    }
   ],
   "source": [
    "# One high-risk example’s top reasons\n",
    "i = int(np.argmax(gb_probs))\n",
    "person = pd.Series(sv[i], index=testX.columns).sort_values(key=np.abs, ascending=False)\n",
    "print(\"Example customer P(churn)=\", gb_probs[i].round(3))\n",
    "print(\"Top + reasons:\\n\", person[person>0].head(5))\n",
    "print(\"Top – reasons:\\n\", person[person<0].head(5))\n",
    "\n",
    "# e.g. this high risk customer would be offered the tenure perk"
   ]
  },
  {
   "cell_type": "code",
   "execution_count": 510,
   "id": "1da214b8",
   "metadata": {},
   "outputs": [
    {
     "data": {
      "text/plain": [
       "array([[ 1.42656274e-02,  1.85576712e-01,  6.69523731e-04, ...,\n",
       "         2.90454027e-02, -6.26667672e-02, -1.07516009e-02],\n",
       "       [-1.32826664e-03, -5.97082646e-02, -9.97099348e-04, ...,\n",
       "         5.16357156e-02, -4.40475271e-02,  5.58229452e-03],\n",
       "       [ 2.19497546e-04, -4.18297974e-02,  1.07681473e-02, ...,\n",
       "         2.95007164e-02,  1.51320485e-02, -2.27633738e-01],\n",
       "       ...,\n",
       "       [-3.25620501e-03, -4.53406760e-02, -9.97099348e-04, ...,\n",
       "        -1.60757555e-01,  1.92481697e-02,  4.44944410e-02],\n",
       "       [-8.58294296e-03,  1.85370268e-01, -9.82024703e-03, ...,\n",
       "         2.53765541e-02, -6.03479530e-02,  4.64148700e-03],\n",
       "       [-1.55168919e-02, -2.69391871e-02,  6.69523731e-04, ...,\n",
       "         4.73427080e-02, -6.16027689e-02,  1.63396924e-03]])"
      ]
     },
     "execution_count": 510,
     "metadata": {},
     "output_type": "execute_result"
    }
   ],
   "source": [
    "sv"
   ]
  },
  {
   "cell_type": "markdown",
   "id": "331cc5c9",
   "metadata": {},
   "source": [
    "PERKS' WE'LL OFFER\n",
    "\n",
    "We’ll assign one offer per high-risk customer using a simple priority to avoid overlap:\n",
    "\n",
    "Contract upgrade (MTM or very short tenure)\n",
    "\n",
    "Rule: Contract == Month-to-month OR tenure < 6 months\n",
    "\n",
    "Offer: 1–2 mo bill credit if upgrading to 12- or 24-month plan (+ keep paperless/autopay).\n",
    "\n",
    "Bill review / right-size (high charges)\n",
    "\n",
    "Rule: MonthlyCharges in top quartile (≥ 75th percentile)\n",
    "\n",
    "Offer: plan optimization + small targeted credit (e.g., $10–$20) if they accept right-size.\n",
    "\n",
    "Add-on bundle trial (missing support/security)\n",
    "\n",
    "Rule: TechSupport_No == 1 OR OnlineSecurity_No == 1\n",
    "\n",
    "Offer: bundle trial 2–3 months free, easy opt-out, then discounted add-on.\n",
    "\n",
    "Fiber loyalty (fiber + high charges)\n",
    "\n",
    "Rule: InternetService_Fiber optic == 1 AND high MonthlyCharges\n",
    "\n",
    "Offer: loyalty add-on or bundle discount to increase perceived value."
   ]
  },
  {
   "cell_type": "markdown",
   "id": "503ebe06",
   "metadata": {},
   "source": [
    "#### 7. Explainability — feature importance + 2–3 “so-what” insights."
   ]
  },
  {
   "cell_type": "markdown",
   "id": "bbf7a87a",
   "metadata": {},
   "source": [
    "#### 8. Business recs — 3 insights, 2 actions, risks, next data."
   ]
  },
  {
   "cell_type": "markdown",
   "id": "2030f29a",
   "metadata": {},
   "source": [
    "#### 9. Reproducibility — README (how to run), requirements, clear section headers."
   ]
  },
  {
   "cell_type": "markdown",
   "id": "56d2cbee",
   "metadata": {},
   "source": [
    "#### 10. Communication — concise slides: Problem/Data → Baseline vs Model → Drivers → Recs."
   ]
  },
  {
   "cell_type": "code",
   "execution_count": null,
   "id": "c3f84dcc",
   "metadata": {},
   "outputs": [
    {
     "ename": "SyntaxError",
     "evalue": "invalid syntax (791285630.py, line 1)",
     "output_type": "error",
     "traceback": [
      "\u001b[0;36m  Cell \u001b[0;32mIn[350], line 1\u001b[0;36m\u001b[0m\n\u001b[0;31m    df.\u001b[0m\n\u001b[0m       ^\u001b[0m\n\u001b[0;31mSyntaxError\u001b[0m\u001b[0;31m:\u001b[0m invalid syntax\n"
     ]
    }
   ],
   "source": [
    "df."
   ]
  }
 ],
 "metadata": {
  "kernelspec": {
   "display_name": "base",
   "language": "python",
   "name": "python3"
  },
  "language_info": {
   "codemirror_mode": {
    "name": "ipython",
    "version": 3
   },
   "file_extension": ".py",
   "mimetype": "text/x-python",
   "name": "python",
   "nbconvert_exporter": "python",
   "pygments_lexer": "ipython3",
   "version": "3.10.6"
  }
 },
 "nbformat": 4,
 "nbformat_minor": 5
}
